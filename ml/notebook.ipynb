{
 "cells": [
  {
   "cell_type": "code",
   "execution_count": 1,
   "metadata": {},
   "outputs": [],
   "source": [
    "import pandas as pd, numpy as np\n",
    "from sklearn.ensemble import RandomForestRegressor\n",
    "from sklearn import linear_model\n",
    "from sklearn.model_selection import train_test_split\n",
    "from sklearn.metrics import mean_squared_error\n",
    "import math\n",
    "\n",
    "%load_ext autoreload\n",
    "%autoreload 2\n",
    "\n",
    "%matplotlib inline\n"
   ]
  },
  {
   "cell_type": "code",
   "execution_count": 2,
   "metadata": {},
   "outputs": [],
   "source": [
    "# Read the dataset\n",
    "df_raw = pd.read_csv( 'prices.csv', low_memory=False, parse_dates=[ 'Date' ] )"
   ]
  },
  {
   "cell_type": "code",
   "execution_count": 3,
   "metadata": {},
   "outputs": [],
   "source": [
    "# First we replace 0 with NaNs, then we want to set landsize to the mean of their suburb\n",
    "# Then drop any rows still Nan/infinite landsize\n",
    "df_raw[ 'Landsize' ] = df_raw[ 'Landsize' ].replace( 0, np.nan )\n",
    "df_raw[ 'Landsize' ] = df_raw[ 'Landsize' ].fillna( df_raw.groupby( 'Suburb' )[ 'Landsize' ].transform( 'mean' ) )\n",
    "df_raw =  df_raw.dropna( subset=['Landsize' ] )"
   ]
  },
  {
   "cell_type": "code",
   "execution_count": 4,
   "metadata": {},
   "outputs": [],
   "source": [
    "df_raw.drop( columns=[ 'Address', 'Method', 'SellerG', 'Propertycount'], inplace=True )"
   ]
  },
  {
   "cell_type": "code",
   "execution_count": 5,
   "metadata": {},
   "outputs": [],
   "source": [
    "# Remove any rows with NaN values\n",
    "df = df_raw.dropna( how='any', axis=0 ).copy( )"
   ]
  },
  {
   "cell_type": "code",
   "execution_count": 6,
   "metadata": {},
   "outputs": [],
   "source": [
    "# Set year,month,day individual columns and remove the date column.\n",
    "(df[ 'year' ], df[ 'month' ], df[ 'day' ] ) = (df.Date.dt.year, df.Date.dt.month, df.Date.dt.day)\n",
    "df.drop( columns='Date', inplace=True )"
   ]
  },
  {
   "cell_type": "code",
   "execution_count": 7,
   "metadata": {},
   "outputs": [],
   "source": [
    "# Convert strings to categories (because the model only accepts numbers not strings)\n",
    "\n",
    "df['Type'] = df[ 'Type' ].astype( 'category' ).cat.codes\n",
    "df['Suburb' ] = df[ 'Suburb' ].astype( 'category' ).cat.codes\n",
    "df['CouncilArea' ] = df[ 'CouncilArea' ].astype( 'category' ).cat.codes\n",
    "df['Regionname' ] = df[ 'Regionname' ].astype( 'category' ).cat.codes"
   ]
  },
  {
   "cell_type": "code",
   "execution_count": 8,
   "metadata": {},
   "outputs": [],
   "source": [
    "# Split into training and validation sets\n",
    "df[ 'Price' ] = np.log( df[ 'Price' ] )\n",
    "y = df.pop( 'Price' ).to_frame( )\n",
    "x = df"
   ]
  },
  {
   "cell_type": "code",
   "execution_count": 9,
   "metadata": {},
   "outputs": [],
   "source": [
    "x_train, x_test, y_train, y_test = train_test_split( x.index, y, test_size=0.2 )\n",
    "# --\n",
    "x_train = df.loc[ x_train ]\n",
    "x_test = df.loc[ x_test ]\n",
    "y_train = y_train.values.ravel( )\n",
    "y_test = y_test.values.ravel( )"
   ]
  },
  {
   "cell_type": "code",
   "execution_count": 10,
   "metadata": {},
   "outputs": [],
   "source": [
    "def rmse( x, y ): return math.sqrt( ( ( x - y ) ** 2 ).mean( ) )\n",
    "\n",
    "def print_score(m):\n",
    "    res = [rmse(m.predict(x_train), y_train), rmse(m.predict(x_test), y_test),\n",
    "                m.score(x_train, y_train), m.score(x_test, y_test)]\n",
    "    if hasattr(m, 'oob_score_'): res.append(m.oob_score_)\n",
    "    print(res)"
   ]
  },
  {
   "cell_type": "code",
   "execution_count": 12,
   "metadata": {},
   "outputs": [
    {
     "name": "stdout",
     "output_type": "stream",
     "text": [
      "CPU times: user 7.16 s, sys: 8.62 ms, total: 7.17 s\n",
      "Wall time: 1.13 s\n",
      "[0.10697462884387782, 0.17864988594059672, 0.9599445807197918, 0.8863113255558459, 0.8705848633945432]\n"
     ]
    }
   ],
   "source": [
    "# Create a RandomForestRegressor model to train\n",
    "mdl = RandomForestRegressor( n_jobs=-1, min_samples_leaf=3, n_estimators=150, oob_score=True )\n",
    "# mdl = linear_model.LinearRegression( )\n",
    "%time mdl.fit( x_train, y_train )\n",
    "# mdl.score( x_train, y_train )\n",
    "print_score( mdl )"
   ]
  },
  {
   "cell_type": "code",
   "execution_count": 15,
   "metadata": {},
   "outputs": [],
   "source": [
    "# View the predictions\n",
    "\n",
    "y_pred = mdl.predict( x_test )"
   ]
  },
  {
   "cell_type": "code",
   "execution_count": 19,
   "metadata": {},
   "outputs": [
    {
     "data": {
      "text/plain": [
       "2204999.999999998"
      ]
     },
     "execution_count": 19,
     "metadata": {},
     "output_type": "execute_result"
    }
   ],
   "source": [
    "# The correct price is\n",
    "math.e ** y_test[ 1 ]"
   ]
  },
  {
   "cell_type": "code",
   "execution_count": 20,
   "metadata": {},
   "outputs": [
    {
     "data": {
      "text/plain": [
       "2023300.6638451174"
      ]
     },
     "execution_count": 20,
     "metadata": {},
     "output_type": "execute_result"
    }
   ],
   "source": [
    "# The predicted price is\n",
    "math.e ** y_pred[ 1 ]"
   ]
  },
  {
   "cell_type": "code",
   "execution_count": 18,
   "metadata": {},
   "outputs": [],
   "source": [
    "# df_raw"
   ]
  },
  {
   "cell_type": "code",
   "execution_count": null,
   "metadata": {},
   "outputs": [],
   "source": []
  }
 ],
 "metadata": {
  "kernelspec": {
   "display_name": "Python 3",
   "language": "python",
   "name": "python3"
  },
  "language_info": {
   "codemirror_mode": {
    "name": "ipython",
    "version": 3
   },
   "file_extension": ".py",
   "mimetype": "text/x-python",
   "name": "python",
   "nbconvert_exporter": "python",
   "pygments_lexer": "ipython3",
   "version": "3.6.6"
  }
 },
 "nbformat": 4,
 "nbformat_minor": 2
}
